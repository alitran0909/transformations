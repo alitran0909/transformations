{
 "cells": [
  {
   "cell_type": "markdown",
   "id": "92c4151f",
   "metadata": {},
   "source": [
    "# Homework 4\n",
    "----\n",
    "**Nota bene:**  You should not use loops in any of your answers, only array operations.\n",
    "# Part 1\n",
    "The files `data1-X.txt` and `data1-y.txt` contain a tiny made-up dataset.  Load them:"
   ]
  },
  {
   "cell_type": "code",
   "execution_count": 313,
   "id": "10c74ad9",
   "metadata": {},
   "outputs": [],
   "source": [
    "import numpy as np\n",
    "from zipfile import ZipFile\n",
    "with ZipFile('hw4-data.zip') as zf:\n",
    "    with zf.open('data1-X.txt') as f:\n",
    "        X = np.loadtxt(f)\n",
    "    with zf.open('data1-y.txt') as f:\n",
    "        y = np.loadtxt(f)\n",
    "    with zf.open('data1-X1.txt') as f:\n",
    "        X1 = np.loadtxt(f)"
   ]
  },
  {
   "cell_type": "code",
   "execution_count": 314,
   "id": "d61ca760",
   "metadata": {},
   "outputs": [
    {
     "data": {
      "text/plain": [
       "array([[0.12, 3.8 ],\n",
       "       [0.15, 4.6 ],\n",
       "       [0.18, 5.2 ],\n",
       "       [0.2 , 5.  ],\n",
       "       [0.2 , 4.9 ],\n",
       "       [0.16, 2.9 ],\n",
       "       [0.18, 3.4 ],\n",
       "       [0.21, 3.9 ],\n",
       "       [0.22, 4.2 ],\n",
       "       [0.24, 4.3 ]])"
      ]
     },
     "execution_count": 314,
     "metadata": {},
     "output_type": "execute_result"
    }
   ],
   "source": [
    "X"
   ]
  },
  {
   "cell_type": "code",
   "execution_count": 315,
   "id": "440dd1a0",
   "metadata": {},
   "outputs": [
    {
     "data": {
      "text/plain": [
       "array([0., 0., 0., 0., 0., 1., 1., 1., 1., 1.])"
      ]
     },
     "execution_count": 315,
     "metadata": {},
     "output_type": "execute_result"
    }
   ],
   "source": [
    "y"
   ]
  },
  {
   "cell_type": "code",
   "execution_count": 316,
   "id": "7e1bdaba",
   "metadata": {},
   "outputs": [
    {
     "data": {
      "text/plain": [
       "array([[0.13, 4.2 ],\n",
       "       [0.21, 3.7 ]])"
      ]
     },
     "execution_count": 316,
     "metadata": {},
     "output_type": "execute_result"
    }
   ],
   "source": [
    "X1"
   ]
  },
  {
   "cell_type": "markdown",
   "id": "a8ac2b38",
   "metadata": {},
   "source": [
    "In the previous homework, we did plotting using convenience functions from the matplotlib.plplot module.  It is generally better to get comfortable using plot objects, called \"Axes\".  They give one much finer control over plotting.\n",
    "\n",
    "First, create an empty canvas, called a \"figure\":"
   ]
  },
  {
   "cell_type": "code",
   "execution_count": 317,
   "id": "c7576656",
   "metadata": {},
   "outputs": [
    {
     "data": {
      "text/plain": [
       "<Figure size 432x288 with 0 Axes>"
      ]
     },
     "metadata": {},
     "output_type": "display_data"
    }
   ],
   "source": [
    "import matplotlib.pyplot as plt\n",
    "fig = plt.figure()"
   ]
  },
  {
   "cell_type": "markdown",
   "id": "5e7e697a",
   "metadata": {},
   "source": [
    "The figure can hold one or more Axes (also known as \"subplots\").  These display as rectangles with tick marks.  Calling `subplots()` with no arguments creates a single set of Axes."
   ]
  },
  {
   "cell_type": "code",
   "execution_count": 318,
   "id": "58969e23",
   "metadata": {},
   "outputs": [],
   "source": [
    "ax = fig.subplots()"
   ]
  },
  {
   "cell_type": "markdown",
   "id": "90d3836c",
   "metadata": {},
   "source": [
    "As a convenience, plt contains a `subplots()` function that creates both the figure and Axes at the same time:"
   ]
  },
  {
   "cell_type": "code",
   "execution_count": 319,
   "id": "048be1e7",
   "metadata": {},
   "outputs": [
    {
     "data": {
      "image/png": "[encoded data removed]",
      "text/plain": [
       "<Figure size 432x288 with 1 Axes>"
      ]
     },
     "metadata": {
      "needs_background": "light"
     },
     "output_type": "display_data"
    }
   ],
   "source": [
    "(fig, ax) = plt.subplots()"
   ]
  },
  {
   "cell_type": "markdown",
   "id": "71259618",
   "metadata": {},
   "source": [
    "`scatter()` is actually a method of Axes."
   ]
  },
  {
   "cell_type": "code",
   "execution_count": 320,
   "id": "26f89fc1",
   "metadata": {},
   "outputs": [
    {
     "data": {
      "text/plain": [
       "<matplotlib.collections.PathCollection at 0x1c01f9c0af0>"
      ]
     },
     "execution_count": 320,
     "metadata": {},
     "output_type": "execute_result"
    }
   ],
   "source": [
    "from matplotlib.colors import ListedColormap\n",
    "dark = ListedColormap(['red', 'blue'])\n",
    "ax.scatter(X[:,0], X[:,1], c=y, cmap=dark)"
   ]
  },
  {
   "cell_type": "markdown",
   "id": "0f6c0e43",
   "metadata": {},
   "source": [
    "To see the plot, look at the figure."
   ]
  },
  {
   "cell_type": "code",
   "execution_count": 321,
   "id": "8e1b66ae",
   "metadata": {},
   "outputs": [
    {
     "data": {
      "image/png": "[encoded data removed]",
      "text/plain": [
       "<Figure size 432x288 with 1 Axes>"
      ]
     },
     "execution_count": 321,
     "metadata": {},
     "output_type": "execute_result"
    }
   ],
   "source": [
    "fig"
   ]
  },
  {
   "cell_type": "markdown",
   "id": "713560a3",
   "metadata": {},
   "source": [
    "It will be convenient to have a `plot_points` function."
   ]
  },
  {
   "cell_type": "code",
   "execution_count": 322,
   "id": "cc518ac9",
   "metadata": {},
   "outputs": [],
   "source": [
    "def plot_points (ax, X, y, cmap):\n",
    "    ax.scatter(X[:,0], X[:,1], c=y, cmap=cmap)"
   ]
  },
  {
   "cell_type": "markdown",
   "id": "62a880ac",
   "metadata": {},
   "source": [
    "Here is a function to plot the test points as text:"
   ]
  },
  {
   "cell_type": "code",
   "execution_count": 323,
   "id": "101c0ea7",
   "metadata": {},
   "outputs": [],
   "source": [
    "def plot_test (ax, X):\n",
    "    for i in range(X.shape[0]):\n",
    "        ax.text(X[i,0], X[i,1], str(i))"
   ]
  },
  {
   "cell_type": "code",
   "execution_count": 324,
   "id": "050e642c",
   "metadata": {},
   "outputs": [
    {
     "data": {
      "image/png": "[encoded data removed]",
      "text/plain": [
       "<Figure size 432x288 with 1 Axes>"
      ]
     },
     "execution_count": 324,
     "metadata": {},
     "output_type": "execute_result"
    }
   ],
   "source": [
    "plot_test(ax, X1)\n",
    "fig"
   ]
  },
  {
   "cell_type": "markdown",
   "id": "ef31a9ce",
   "metadata": {},
   "source": [
    "A label vector was not provided for the test set, but the correct labels should be obvious:"
   ]
  },
  {
   "cell_type": "code",
   "execution_count": 325,
   "id": "a4463db6",
   "metadata": {},
   "outputs": [],
   "source": [
    "y1 = np.array([0, 1])"
   ]
  },
  {
   "cell_type": "markdown",
   "id": "af040e3b",
   "metadata": {},
   "source": [
    "# Q1\n",
    "Write a function that trains and returns a 1-nearest neighbors classifier, giving training set (*X*, *y*)."
   ]
  },
  {
   "cell_type": "code",
   "execution_count": 326,
   "id": "32067d69",
   "metadata": {},
   "outputs": [],
   "source": [
    "from sklearn.neighbors import KNeighborsClassifier\n",
    "def train_nn (X, y):\n",
    "    return KNeighborsClassifier(1).fit(X,y)"
   ]
  },
  {
   "cell_type": "markdown",
   "id": "3643891f",
   "metadata": {},
   "source": [
    "For our particular training set:"
   ]
  },
  {
   "cell_type": "code",
   "execution_count": 327,
   "id": "8a0dc0c0",
   "metadata": {},
   "outputs": [],
   "source": [
    "clf = train_nn(X, y)"
   ]
  },
  {
   "cell_type": "markdown",
   "id": "b62db044",
   "metadata": {},
   "source": [
    "One expects a nearest-neighbors classifier to do very well on the training data:"
   ]
  },
  {
   "cell_type": "code",
   "execution_count": 328,
   "id": "ffdab42c",
   "metadata": {},
   "outputs": [
    {
     "data": {
      "text/plain": [
       "1.0"
      ]
     },
     "execution_count": 328,
     "metadata": {},
     "output_type": "execute_result"
    }
   ],
   "source": [
    "clf.score(X, y)"
   ]
  },
  {
   "cell_type": "markdown",
   "id": "48ca6a1c",
   "metadata": {},
   "source": [
    "Judging by the plot above, one would think it should do equally well on the test data.  But it doesn't:"
   ]
  },
  {
   "cell_type": "code",
   "execution_count": 329,
   "id": "d501eea2",
   "metadata": {},
   "outputs": [
    {
     "data": {
      "text/plain": [
       "0.0"
      ]
     },
     "execution_count": 329,
     "metadata": {},
     "output_type": "execute_result"
    }
   ],
   "source": [
    "clf.score(X1, y1)"
   ]
  },
  {
   "cell_type": "markdown",
   "id": "a9fd2ac7",
   "metadata": {},
   "source": [
    "Let's look at the decision boundaries."
   ]
  },
  {
   "cell_type": "markdown",
   "id": "52152b71",
   "metadata": {},
   "source": [
    "# Q2\n",
    "Write a function that takes a set of Axes `ax`, a classifier `clf`, a bounding rectangle `rect`, and a colormap `cmap`, and fills in the decision regions using `contourf()`.  There is no return value.  Be sure to use `ax.contourf()`, **not** `plt.contourf()`.  The function should create a 100 x 100 grid, call the classifier's prediction function at each point, and use the predicted class to determine the color at that point.  The bounding rectangle is a tuple (*xmin*, *xmax*, *ymin*, *ymax*).  The x-axis of the grid should extend from *xmin* to *xmax*, and the y-axis should extend from *ymin* to *ymax*.\n",
    "\n",
    "This basically involves just copying the appropriate bits from HW 2."
   ]
  },
  {
   "cell_type": "code",
   "execution_count": 330,
   "id": "6d494231",
   "metadata": {},
   "outputs": [],
   "source": [
    "def plot_boundaries (ax, clf, rect, cmap):\n",
    "    (xmin, xmax, ymin, ymax) = rect\n",
    "    axis1 = np.linspace(xmin, xmax, 100)\n",
    "    axis2 = np.linspace(ymin, ymax, 100)\n",
    "    (G1, G2) = np.meshgrid(axis1, axis2)\n",
    "    a = G1.ravel()\n",
    "    b = G2.ravel()\n",
    "    X_grid = np.column_stack((a,b))\n",
    "    y_grid = clf.predict(X_grid)\n",
    "    y_grid = y_grid.reshape((100,100))\n",
    "    ax.contourf(G1, G2, y_grid, cmap = cmap)"
   ]
  },
  {
   "cell_type": "markdown",
   "id": "577b49a9",
   "metadata": {},
   "source": [
    "# Q3\n",
    "To test `plot_boundaries()`, we need a bounding rectangle.  Write a function `bounding_rectangle()` that takes a design matrix *X*.  Let \"x\" be the first column and \"y\" be the second column.  Compute xmin, xmax, ymin, and ymax for the data, then add a buffer of 5% of extra space.  That is, let x_extra be 5% of xmax - xmin.  Subtract x_extra from xmin and add it to xmax, to get the quantities that go into the bounding rectangle; handle ymin and ymax similarly.  The return value is a tuple (*xmin*, *xmax*, *ymin*, *ymax*)."
   ]
  },
  {
   "cell_type": "code",
   "execution_count": 331,
   "id": "bc307faf",
   "metadata": {},
   "outputs": [],
   "source": [
    "def bounding_rect (X):\n",
    "    #computing of all min and max\n",
    "    xmin = np.min(X[:, 0])\n",
    "    xmax = np.max(X[:, 0])\n",
    "    ymin = np.min(X[:, 1])\n",
    "    ymax = np.max(X[:, 1])\n",
    "    \n",
    "    #calculating x_extra (5% of xmax - xmin)\n",
    "    x_extra = (xmax - xmin) * .05\n",
    "    \n",
    "    xmin = xmin - x_extra\n",
    "    xmax = xmax + x_extra\n",
    "    \n",
    "    #same thing for y\n",
    "    y_extra = (ymax - ymin) * .05\n",
    "    \n",
    "    ymin = ymin - y_extra\n",
    "    ymax = ymax + y_extra\n",
    "\n",
    "    return (xmin, xmax, ymin, ymax)"
   ]
  },
  {
   "cell_type": "markdown",
   "id": "bf688168",
   "metadata": {},
   "source": [
    "Eyeball the results to make sure they look reasonable for matrix *X*."
   ]
  },
  {
   "cell_type": "code",
   "execution_count": 332,
   "id": "3bc0f371",
   "metadata": {},
   "outputs": [
    {
     "data": {
      "text/plain": [
       "(0.11399999999999999, 0.246, 2.7849999999999997, 5.315)"
      ]
     },
     "execution_count": 332,
     "metadata": {},
     "output_type": "execute_result"
    }
   ],
   "source": [
    "rect = bounding_rect(X)\n",
    "rect"
   ]
  },
  {
   "cell_type": "markdown",
   "id": "2322639e",
   "metadata": {},
   "source": [
    "We'll also need a lighter-colored colormap."
   ]
  },
  {
   "cell_type": "code",
   "execution_count": 333,
   "id": "b107408b",
   "metadata": {},
   "outputs": [],
   "source": [
    "light = ListedColormap(['#ffdddd', '#ddddff'])"
   ]
  },
  {
   "cell_type": "markdown",
   "id": "d2a4881a",
   "metadata": {},
   "source": [
    "Now test `plot_boundaries()`."
   ]
  },
  {
   "cell_type": "code",
   "execution_count": 334,
   "id": "b161c352",
   "metadata": {},
   "outputs": [
    {
     "data": {
      "image/png": "[encoded data removed]",
      "text/plain": [
       "<Figure size 432x288 with 1 Axes>"
      ]
     },
     "metadata": {
      "needs_background": "light"
     },
     "output_type": "display_data"
    }
   ],
   "source": [
    "(fig, ax) = plt.subplots()\n",
    "plot_boundaries(ax, clf, rect, light)\n",
    "plot_points(ax, X, y, dark)\n",
    "plot_test(ax, X1)"
   ]
  },
  {
   "cell_type": "markdown",
   "id": "b77e82e5",
   "metadata": {},
   "source": [
    "You should see decision boundaries that are almost horizontal.  What has gone wrong?\n",
    "\n",
    "Look back at the lecture notes for Nearest Neighbors.  The decision boundaries are lines that are perpendicular to pairs of training points that are next to each other but belong to different classes.  The boundaries we are getting only make sense if the nearest neighbors to the lower left red point are actually the blue points that are second and third from the bottom.  How could that be?\n",
    "\n",
    "Look at the scales of the two axes.  The problem isn't that the decision boundaries are skewed, the problem is that the plot is stretched out.\n",
    "\n",
    "We can force the plot to use the same number of ticks per pixel on each axis by setting the **aspect ratio** to 1."
   ]
  },
  {
   "cell_type": "code",
   "execution_count": 335,
   "id": "76a64bbe",
   "metadata": {},
   "outputs": [],
   "source": [
    "ax.set_aspect(1)"
   ]
  },
  {
   "cell_type": "code",
   "execution_count": 336,
   "id": "433f99c2",
   "metadata": {},
   "outputs": [
    {
     "data": {
      "image/png": "[encoded data removed]",
      "text/plain": [
       "<Figure size 432x288 with 1 Axes>"
      ]
     },
     "execution_count": 336,
     "metadata": {},
     "output_type": "execute_result"
    }
   ],
   "source": [
    "fig"
   ]
  },
  {
   "cell_type": "markdown",
   "id": "b1094f4b",
   "metadata": {},
   "source": [
    "To see it more clearly, let's adjust the x limits and replot:"
   ]
  },
  {
   "cell_type": "code",
   "execution_count": 337,
   "id": "b6b2c89b",
   "metadata": {},
   "outputs": [
    {
     "data": {
      "image/png": "[encoded data removed]",
      "text/plain": [
       "<Figure size 432x288 with 1 Axes>"
      ]
     },
     "metadata": {
      "needs_background": "light"
     },
     "output_type": "display_data"
    }
   ],
   "source": [
    "wide = (rect[0] - 2, rect[1] + 2, rect[2], rect[3])\n",
    "(fig, ax) = plt.subplots()\n",
    "plot_boundaries(ax, clf, wide, light)\n",
    "plot_points(ax, X, y, dark)\n",
    "plot_test(ax, X1)"
   ]
  },
  {
   "cell_type": "markdown",
   "id": "5d01f2bc",
   "metadata": {},
   "source": [
    "Now it should be clear that Nearest Neighbors is behaving as advertised.  The problem is that the data is practically linear; the first feature hardly contributes at all.\n",
    "\n",
    "We want to scale the data so that the original plot is correct (without any stretching).  Basically, we want to use the centering and scaling that we did in HW 1.\n",
    "\n",
    "However, it is import to apply the *same transformation* to the test data.  So we actually need to keep the vectors of means and standard deviations to re-use them on the test data.  (We **don't** want to recompute them for the test data, then the training and test data would not be comparable.)\n",
    "\n",
    "# Q4\n",
    "Write a function that takes a design matrix and returns the means and standard deviations of the columns.  That is, the return value should be a pair (*means*, *stds*)."
   ]
  },
  {
   "cell_type": "code",
   "execution_count": 338,
   "id": "07d4cace",
   "metadata": {},
   "outputs": [],
   "source": [
    "def means_and_stds (X):\n",
    "    means = np.mean(X, axis = 0)\n",
    "    stds = np.std(X, axis = 0)\n",
    "    return(means, stds)"
   ]
  },
  {
   "cell_type": "markdown",
   "id": "7b397f5d",
   "metadata": {},
   "source": [
    "# Q5\n",
    "Write a function that applies the transformation.  Given a design matrix *X* and means and standard deviations *stats*, it produces a new matrix in which the means are subtracted out of the columns, and the columns are then scaled by the standard deviations."
   ]
  },
  {
   "cell_type": "code",
   "execution_count": 339,
   "id": "bec021f8",
   "metadata": {
    "scrolled": true
   },
   "outputs": [
    {
     "name": "stdout",
     "output_type": "stream",
     "text": [
      "(array([0.186, 4.22 ]), array([0.03382307, 0.69828361]))\n"
     ]
    }
   ],
   "source": [
    "stats = means_and_stds(X)\n",
    "print(stats)\n",
    "S = transform(X, stats)\n",
    "S1 = transform(X1, stats)"
   ]
  },
  {
   "cell_type": "code",
   "execution_count": 340,
   "id": "ee64500f",
   "metadata": {},
   "outputs": [],
   "source": [
    "def transform (X, stats):\n",
    "    X = X - stats[0]\n",
    "    X = X/stats[1]\n",
    "    return X"
   ]
  },
  {
   "cell_type": "markdown",
   "id": "41ab27a5",
   "metadata": {},
   "source": [
    "To check your work, make sure that the column means of *S* are (close to) 0 and the column standard deviations are (close to) 1."
   ]
  },
  {
   "cell_type": "code",
   "execution_count": 341,
   "id": "1e594f4d",
   "metadata": {},
   "outputs": [
    {
     "data": {
      "text/plain": [
       "(array([0.00000000e+00, 2.96984659e-16]), array([1., 1.]))"
      ]
     },
     "execution_count": 341,
     "metadata": {},
     "output_type": "execute_result"
    }
   ],
   "source": [
    "means_and_stds(S)"
   ]
  },
  {
   "cell_type": "markdown",
   "id": "69a79e04",
   "metadata": {},
   "source": [
    "(The means and standard deviations of the test data will *not* necessarily be close to 0 and 1, but that doesn't matter.)\n",
    "\n",
    "Now we need to retrain and replot."
   ]
  },
  {
   "cell_type": "code",
   "execution_count": 342,
   "id": "b3f4771d",
   "metadata": {},
   "outputs": [
    {
     "data": {
      "image/png": "[encoded data removed]",
      "text/plain": [
       "<Figure size 432x288 with 1 Axes>"
      ]
     },
     "metadata": {
      "needs_background": "light"
     },
     "output_type": "display_data"
    }
   ],
   "source": [
    "clf = train_nn(S, y)\n",
    "(fig, ax) = plt.subplots()\n",
    "plot_boundaries(ax, clf, bounding_rect(S), light)\n",
    "plot_points(ax, S, y, dark)\n",
    "plot_test(ax, S1)"
   ]
  },
  {
   "cell_type": "markdown",
   "id": "01ac0cd4",
   "metadata": {},
   "source": [
    "This result should look a lot better."
   ]
  },
  {
   "cell_type": "code",
   "execution_count": 343,
   "id": "064045f5",
   "metadata": {},
   "outputs": [
    {
     "data": {
      "text/plain": [
       "1.0"
      ]
     },
     "execution_count": 343,
     "metadata": {},
     "output_type": "execute_result"
    }
   ],
   "source": [
    "clf.score(S1, y1)"
   ]
  },
  {
   "cell_type": "markdown",
   "id": "734adef6",
   "metadata": {},
   "source": [
    "# Part 2\n",
    "## Document corpus\n",
    "We'll turn to document similarity now.  There is a tiny corpus in `corpus.txt`, and a list of stop words in `stop_words.txt`."
   ]
  },
  {
   "cell_type": "code",
   "execution_count": 344,
   "id": "269c8525",
   "metadata": {},
   "outputs": [],
   "source": [
    "with ZipFile('hw4-data.zip') as zf:\n",
    "    with zf.open('corpus.txt') as f:\n",
    "        corpus = [line.strip() for line in f]\n",
    "    with zf.open('stop_words.txt') as f:\n",
    "        stop_words = [line.strip() for line in f]"
   ]
  },
  {
   "cell_type": "code",
   "execution_count": 345,
   "id": "44a7ce27",
   "metadata": {},
   "outputs": [
    {
     "data": {
      "text/plain": [
       "[b'The stars and the planets.',\n",
       " b'Planets orbit stars and moons orbit planets.',\n",
       " b'The planets around distant stars.',\n",
       " b'A distant nebula and stars.',\n",
       " b'Stars like daisies in a nebula.',\n",
       " b'Flowers like asters and daisies and roses.',\n",
       " b'Asters like stars in beds.',\n",
       " b'Care of roses.',\n",
       " b'Care of beds of flowers.',\n",
       " b'Beds of daisies.']"
      ]
     },
     "execution_count": 345,
     "metadata": {},
     "output_type": "execute_result"
    }
   ],
   "source": [
    "corpus"
   ]
  },
  {
   "cell_type": "code",
   "execution_count": 346,
   "id": "b9c704f1",
   "metadata": {},
   "outputs": [
    {
     "data": {
      "text/plain": [
       "[b'a', b'and', b'around', b'like', b'in', b'of', b'the']"
      ]
     },
     "execution_count": 346,
     "metadata": {},
     "output_type": "execute_result"
    }
   ],
   "source": [
    "stop_words"
   ]
  },
  {
   "cell_type": "markdown",
   "id": "de9c9c7e",
   "metadata": {},
   "source": [
    "## Counts\n",
    "Sklearn provides a `CountVectorizer` that tokenizes a corpus, constructs a vocabulary, and converts documents to count vectors.  The protocol is similar to that with a classifier.  First, one instantiates the class:"
   ]
  },
  {
   "cell_type": "code",
   "execution_count": 347,
   "id": "6dcde5dc",
   "metadata": {},
   "outputs": [],
   "source": [
    "from sklearn.feature_extraction.text import CountVectorizer\n",
    "cv = CountVectorizer(stop_words=stop_words)"
   ]
  },
  {
   "cell_type": "markdown",
   "id": "38c938bd",
   "metadata": {},
   "source": [
    "Then one fits it to the corpus.  This does tokenization and constructs an internal table that maps words to feature indices."
   ]
  },
  {
   "cell_type": "code",
   "execution_count": 348,
   "id": "47a0af4c",
   "metadata": {},
   "outputs": [
    {
     "data": {
      "text/plain": [
       "CountVectorizer(stop_words=[b'a', b'and', b'around', b'like', b'in', b'of',\n",
       "                            b'the'])"
      ]
     },
     "execution_count": 348,
     "metadata": {},
     "output_type": "execute_result"
    }
   ],
   "source": [
    "cv.fit(corpus)"
   ]
  },
  {
   "cell_type": "markdown",
   "id": "18b4bf1b",
   "metadata": {},
   "source": [
    "The internal table is called `vocabulary_`."
   ]
  },
  {
   "cell_type": "code",
   "execution_count": 349,
   "id": "3f529ae2",
   "metadata": {
    "scrolled": true
   },
   "outputs": [
    {
     "data": {
      "text/plain": [
       "{'the': 17,\n",
       " 'stars': 16,\n",
       " 'and': 0,\n",
       " 'planets': 14,\n",
       " 'orbit': 13,\n",
       " 'moons': 10,\n",
       " 'around': 1,\n",
       " 'distant': 6,\n",
       " 'nebula': 11,\n",
       " 'like': 9,\n",
       " 'daisies': 5,\n",
       " 'in': 8,\n",
       " 'flowers': 7,\n",
       " 'asters': 2,\n",
       " 'roses': 15,\n",
       " 'beds': 3,\n",
       " 'care': 4,\n",
       " 'of': 12}"
      ]
     },
     "execution_count": 349,
     "metadata": {},
     "output_type": "execute_result"
    }
   ],
   "source": [
    "cv.vocabulary_"
   ]
  },
  {
   "cell_type": "markdown",
   "id": "3cdc0d7f",
   "metadata": {},
   "source": [
    "When one applies the vectorizer, it turns a document into a feature vector `x`.  Suppose `cv.vocabulary_['stars']` is `16`.  That means that `x[16]` is the count of how many times 'stars' occurs in the document.\n",
    "\n",
    "Notice that the words have been converted to lower case and punctuation is discarded.  It is typical of a tokenizer that it does preprocessing steps of that sort.\n",
    "\n",
    "To convert the corpus to feature vectors, the method is `transform()`.  This is analogous to the `predict()` method of a classifier, though the name is different because the vectorizer represents a preprocessing step, not a classifier."
   ]
  },
  {
   "cell_type": "code",
   "execution_count": 350,
   "id": "9d414964",
   "metadata": {},
   "outputs": [
    {
     "data": {
      "text/plain": [
       "<10x18 sparse matrix of type '<class 'numpy.int64'>'\n",
       "\twith 44 stored elements in Compressed Sparse Row format>"
      ]
     },
     "execution_count": 350,
     "metadata": {},
     "output_type": "execute_result"
    }
   ],
   "source": [
    "C = cv.transform(corpus)\n",
    "C"
   ]
  },
  {
   "cell_type": "markdown",
   "id": "845d37be",
   "metadata": {},
   "source": [
    "The design matrix for a corpus in which the features are word counts is very sparse - most documents contain only a tiny fraction of the complete vocabulary, meaning that most entries in the feature vectors are 0.  Numpy has a sparse matrix representation that is considerably more efficient in this setting, especially when there are a lot of documents.  Unfortunately, sparse matrices do not support all matrix operations, and they also do not print out in a terribly informative way.  One can convert a sparse matrix to a regular (dense) matrix using the method `toarray()`:"
   ]
  },
  {
   "cell_type": "code",
   "execution_count": 351,
   "id": "7b3c7d5d",
   "metadata": {},
   "outputs": [
    {
     "data": {
      "text/plain": [
       "array([[1, 0, 0, 0, 0, 0, 0, 0, 0, 0, 0, 0, 0, 0, 1, 0, 1, 2],\n",
       "       [1, 0, 0, 0, 0, 0, 0, 0, 0, 0, 1, 0, 0, 2, 2, 0, 1, 0],\n",
       "       [0, 1, 0, 0, 0, 0, 1, 0, 0, 0, 0, 0, 0, 0, 1, 0, 1, 1],\n",
       "       [1, 0, 0, 0, 0, 0, 1, 0, 0, 0, 0, 1, 0, 0, 0, 0, 1, 0],\n",
       "       [0, 0, 0, 0, 0, 1, 0, 0, 1, 1, 0, 1, 0, 0, 0, 0, 1, 0],\n",
       "       [2, 0, 1, 0, 0, 1, 0, 1, 0, 1, 0, 0, 0, 0, 0, 1, 0, 0],\n",
       "       [0, 0, 1, 1, 0, 0, 0, 0, 1, 1, 0, 0, 0, 0, 0, 0, 1, 0],\n",
       "       [0, 0, 0, 0, 1, 0, 0, 0, 0, 0, 0, 0, 1, 0, 0, 1, 0, 0],\n",
       "       [0, 0, 0, 1, 1, 0, 0, 1, 0, 0, 0, 0, 2, 0, 0, 0, 0, 0],\n",
       "       [0, 0, 0, 1, 0, 1, 0, 0, 0, 0, 0, 0, 1, 0, 0, 0, 0, 0]],\n",
       "      dtype=int64)"
      ]
     },
     "execution_count": 351,
     "metadata": {},
     "output_type": "execute_result"
    }
   ],
   "source": [
    "C = C.toarray()\n",
    "C"
   ]
  },
  {
   "cell_type": "markdown",
   "id": "4264da2d",
   "metadata": {},
   "source": [
    "We know how to convert a word string to an index: `cv.vocabulary_[w]`.  How do we go the other direction?  Use the method `get_feature_names_out()`."
   ]
  },
  {
   "cell_type": "code",
   "execution_count": 352,
   "id": "bc4d9d7e",
   "metadata": {},
   "outputs": [
    {
     "data": {
      "text/plain": [
       "'stars'"
      ]
     },
     "execution_count": 352,
     "metadata": {},
     "output_type": "execute_result"
    }
   ],
   "source": [
    "i = cv.vocabulary_['stars']\n",
    "cv.get_feature_names_out()[i]"
   ]
  },
  {
   "cell_type": "markdown",
   "id": "13132482",
   "metadata": {},
   "source": [
    "To compute the vocabulary, the vectorizer has to tokenize the corpus.  Then when we call `transform()`, it tokenizes the corpus again.  That is a little inefficient, but it is motivated because we want to also transform the test set to feature vectors, but **we do not want to fit to the test set**.  If there are new words in the test set, they would be added to the vocabulary, and the test-set vectors would have a different length than the training-set vectors - bad news.\n",
    "\n",
    "However, for convenience and efficiency, there is a combined `fit_transform()` method.  It should be used on the training set only!  But we could have done:"
   ]
  },
  {
   "cell_type": "code",
   "execution_count": 353,
   "id": "eddcdb1b",
   "metadata": {},
   "outputs": [
    {
     "data": {
      "text/plain": [
       "array([[1, 0, 0, 0, 0, 0, 0, 0, 0, 0, 0, 0, 0, 0, 1, 0, 1, 2],\n",
       "       [1, 0, 0, 0, 0, 0, 0, 0, 0, 0, 1, 0, 0, 2, 2, 0, 1, 0],\n",
       "       [0, 1, 0, 0, 0, 0, 1, 0, 0, 0, 0, 0, 0, 0, 1, 0, 1, 1],\n",
       "       [1, 0, 0, 0, 0, 0, 1, 0, 0, 0, 0, 1, 0, 0, 0, 0, 1, 0],\n",
       "       [0, 0, 0, 0, 0, 1, 0, 0, 1, 1, 0, 1, 0, 0, 0, 0, 1, 0],\n",
       "       [2, 0, 1, 0, 0, 1, 0, 1, 0, 1, 0, 0, 0, 0, 0, 1, 0, 0],\n",
       "       [0, 0, 1, 1, 0, 0, 0, 0, 1, 1, 0, 0, 0, 0, 0, 0, 1, 0],\n",
       "       [0, 0, 0, 0, 1, 0, 0, 0, 0, 0, 0, 0, 1, 0, 0, 1, 0, 0],\n",
       "       [0, 0, 0, 1, 1, 0, 0, 1, 0, 0, 0, 0, 2, 0, 0, 0, 0, 0],\n",
       "       [0, 0, 0, 1, 0, 1, 0, 0, 0, 0, 0, 0, 1, 0, 0, 0, 0, 0]],\n",
       "      dtype=int64)"
      ]
     },
     "execution_count": 353,
     "metadata": {},
     "output_type": "execute_result"
    }
   ],
   "source": [
    "cv = CountVectorizer()\n",
    "C = cv.fit_transform(corpus).toarray()\n",
    "C"
   ]
  },
  {
   "cell_type": "markdown",
   "id": "cb61faa4",
   "metadata": {},
   "source": [
    "## IDF\n",
    "There is also a `TfidfTransformer` that takes the counts as input and produces TF-IDF vectors as output."
   ]
  },
  {
   "cell_type": "code",
   "execution_count": 354,
   "id": "8f861a9e",
   "metadata": {
    "scrolled": true
   },
   "outputs": [
    {
     "data": {
      "text/plain": [
       "array([[0.31066348, 0.        , 0.        , 0.        , 0.        ,\n",
       "        0.        , 0.        , 0.        , 0.        , 0.        ,\n",
       "        0.        , 0.        , 0.        , 0.        , 0.35730166,\n",
       "        0.        , 0.24493066, 0.84606897],\n",
       "       [0.2143549 , 0.        , 0.        , 0.        , 0.        ,\n",
       "        0.        , 0.        , 0.        , 0.        , 0.        ,\n",
       "        0.36942479, 0.        , 0.        , 0.73884958, 0.49306962,\n",
       "        0.        , 0.16899987, 0.        ],\n",
       "       [0.        , 0.58689567, 0.        , 0.        , 0.        ,\n",
       "        0.        , 0.46371789, 0.        , 0.        , 0.        ,\n",
       "        0.        , 0.        , 0.        , 0.        , 0.39166352,\n",
       "        0.        , 0.26848574, 0.46371789],\n",
       "       [0.43314333, 0.        , 0.        , 0.        , 0.        ,\n",
       "        0.        , 0.58981688, 0.        , 0.        , 0.        ,\n",
       "        0.        , 0.58981688, 0.        , 0.        , 0.        ,\n",
       "        0.        , 0.34149517, 0.        ],\n",
       "       [0.        , 0.        , 0.        , 0.        , 0.        ,\n",
       "        0.435463  , 0.        , 0.        , 0.51557518, 0.435463  ,\n",
       "        0.        , 0.51557518, 0.        , 0.        , 0.        ,\n",
       "        0.        , 0.29851034, 0.        ],\n",
       "       [0.57240227, 0.        , 0.3897238 , 0.        , 0.        ,\n",
       "        0.32916692, 0.        , 0.3897238 , 0.        , 0.32916692,\n",
       "        0.        , 0.        , 0.        , 0.        , 0.        ,\n",
       "        0.3897238 , 0.        , 0.        ],\n",
       "       [0.        , 0.        , 0.51557518, 0.435463  , 0.        ,\n",
       "        0.        , 0.        , 0.        , 0.51557518, 0.435463  ,\n",
       "        0.        , 0.        , 0.        , 0.        , 0.        ,\n",
       "        0.        , 0.29851034, 0.        ],\n",
       "       [0.        , 0.        , 0.        , 0.        , 0.60707871,\n",
       "        0.        , 0.        , 0.        , 0.        , 0.        ,\n",
       "        0.        , 0.        , 0.51274835, 0.        , 0.        ,\n",
       "        0.60707871, 0.        , 0.        ],\n",
       "       [0.        , 0.        , 0.        , 0.35797552, 0.42383231,\n",
       "        0.        , 0.        , 0.42383231, 0.        , 0.        ,\n",
       "        0.        , 0.        , 0.71595103, 0.        , 0.        ,\n",
       "        0.        , 0.        , 0.        ],\n",
       "       [0.        , 0.        , 0.        , 0.57735027, 0.        ,\n",
       "        0.57735027, 0.        , 0.        , 0.        , 0.        ,\n",
       "        0.        , 0.        , 0.57735027, 0.        , 0.        ,\n",
       "        0.        , 0.        , 0.        ]])"
      ]
     },
     "execution_count": 354,
     "metadata": {},
     "output_type": "execute_result"
    }
   ],
   "source": [
    "from sklearn.feature_extraction.text import TfidfTransformer\n",
    "t = TfidfTransformer(smooth_idf=False)\n",
    "X = t.fit_transform(C).toarray()\n",
    "X"
   ]
  },
  {
   "cell_type": "markdown",
   "id": "371f81d7",
   "metadata": {},
   "source": [
    "# Q6\n",
    "As mentioned in the lecture notes (Lec 4), sklearn uses a slightly non-standard formula for IDF: $\\text{idf} = 1 + \\log\\frac{N}{n}$, where $n$ is the number of documents that contain the word in question, and $N$ is the total number of documents.  Write a function `compute_idfs()` that takes a count matrix *C* and computes IDF values for each of the columns, returning a vector.  (The rows of *C* represent documents and the columns represent words.) (Just to be explicit, you should **not** use TfidfTransformer nor any library function that computes IDFs.)\n",
    "\n",
    "Tip: you may use `np.log()`."
   ]
  },
  {
   "cell_type": "code",
   "execution_count": 355,
   "id": "e1a457aa",
   "metadata": {},
   "outputs": [],
   "source": [
    "def compute_idfs (C):\n",
    "    a = np.array(C)\n",
    "    N = np.shape(C)[0]\n",
    "    n = np.count_nonzero(a > 0, axis = 0)\n",
    "    P = N/n\n",
    "    idf = np.array(1 + np.log(P))\n",
    "    return idf"
   ]
  },
  {
   "cell_type": "code",
   "execution_count": 356,
   "id": "b578909c",
   "metadata": {},
   "outputs": [
    {
     "data": {
      "text/plain": [
       "array([1.91629073, 3.30258509, 2.60943791, 2.2039728 , 2.60943791,\n",
       "       2.2039728 , 2.60943791, 2.60943791, 2.60943791, 2.2039728 ,\n",
       "       3.30258509, 2.60943791, 2.2039728 , 3.30258509, 2.2039728 ,\n",
       "       2.60943791, 1.51082562, 2.60943791])"
      ]
     },
     "execution_count": 356,
     "metadata": {},
     "output_type": "execute_result"
    }
   ],
   "source": [
    "idf = compute_idfs(C)\n",
    "idf"
   ]
  },
  {
   "cell_type": "markdown",
   "id": "6a5b8b75",
   "metadata": {},
   "source": [
    "`compute_idfs()` is a reimplementation of the `fit()` method of TfidfTransformer.  The IDF weights are stored in the `idf_` member."
   ]
  },
  {
   "cell_type": "code",
   "execution_count": 357,
   "id": "c8aabe58",
   "metadata": {},
   "outputs": [
    {
     "data": {
      "text/plain": [
       "array([1.91629073, 3.30258509, 2.60943791, 2.2039728 , 2.60943791,\n",
       "       2.2039728 , 2.60943791, 2.60943791, 2.60943791, 2.2039728 ,\n",
       "       3.30258509, 2.60943791, 2.2039728 , 3.30258509, 2.2039728 ,\n",
       "       2.60943791, 1.51082562, 2.60943791])"
      ]
     },
     "execution_count": 357,
     "metadata": {},
     "output_type": "execute_result"
    }
   ],
   "source": [
    "t.idf_"
   ]
  },
  {
   "cell_type": "markdown",
   "id": "c73c6743",
   "metadata": {},
   "source": [
    "# Q7\n",
    "The `transform()` method takes count vectors as input, multiples them by IDF values to turn them into TF-IDF vectors, and also normalizes them so that each output row has length one.  Write a function called `apply_idf()` that does the same thing.\n",
    "\n",
    "Tip: the `norm()` function takes an `axis` keyword argument."
   ]
  },
  {
   "cell_type": "code",
   "execution_count": 358,
   "id": "fd25c97f",
   "metadata": {},
   "outputs": [],
   "source": [
    "from scipy.linalg import norm\n",
    "def apply_idf (idf, C):\n",
    "    M = C * idf\n",
    "    M = M/np.linalg.norm(M, axis = 1, keepdims = True)\n",
    "    return M"
   ]
  },
  {
   "cell_type": "markdown",
   "id": "b5c527bd",
   "metadata": {},
   "source": [
    "If you've done everything right, the output of the following will match *X*."
   ]
  },
  {
   "cell_type": "code",
   "execution_count": 359,
   "id": "7fa55a8e",
   "metadata": {},
   "outputs": [
    {
     "data": {
      "text/plain": [
       "array([[0.31066348, 0.        , 0.        , 0.        , 0.        ,\n",
       "        0.        , 0.        , 0.        , 0.        , 0.        ,\n",
       "        0.        , 0.        , 0.        , 0.        , 0.35730166,\n",
       "        0.        , 0.24493066, 0.84606897],\n",
       "       [0.2143549 , 0.        , 0.        , 0.        , 0.        ,\n",
       "        0.        , 0.        , 0.        , 0.        , 0.        ,\n",
       "        0.36942479, 0.        , 0.        , 0.73884958, 0.49306962,\n",
       "        0.        , 0.16899987, 0.        ],\n",
       "       [0.        , 0.58689567, 0.        , 0.        , 0.        ,\n",
       "        0.        , 0.46371789, 0.        , 0.        , 0.        ,\n",
       "        0.        , 0.        , 0.        , 0.        , 0.39166352,\n",
       "        0.        , 0.26848574, 0.46371789],\n",
       "       [0.43314333, 0.        , 0.        , 0.        , 0.        ,\n",
       "        0.        , 0.58981688, 0.        , 0.        , 0.        ,\n",
       "        0.        , 0.58981688, 0.        , 0.        , 0.        ,\n",
       "        0.        , 0.34149517, 0.        ],\n",
       "       [0.        , 0.        , 0.        , 0.        , 0.        ,\n",
       "        0.435463  , 0.        , 0.        , 0.51557518, 0.435463  ,\n",
       "        0.        , 0.51557518, 0.        , 0.        , 0.        ,\n",
       "        0.        , 0.29851034, 0.        ],\n",
       "       [0.57240227, 0.        , 0.3897238 , 0.        , 0.        ,\n",
       "        0.32916692, 0.        , 0.3897238 , 0.        , 0.32916692,\n",
       "        0.        , 0.        , 0.        , 0.        , 0.        ,\n",
       "        0.3897238 , 0.        , 0.        ],\n",
       "       [0.        , 0.        , 0.51557518, 0.435463  , 0.        ,\n",
       "        0.        , 0.        , 0.        , 0.51557518, 0.435463  ,\n",
       "        0.        , 0.        , 0.        , 0.        , 0.        ,\n",
       "        0.        , 0.29851034, 0.        ],\n",
       "       [0.        , 0.        , 0.        , 0.        , 0.60707871,\n",
       "        0.        , 0.        , 0.        , 0.        , 0.        ,\n",
       "        0.        , 0.        , 0.51274835, 0.        , 0.        ,\n",
       "        0.60707871, 0.        , 0.        ],\n",
       "       [0.        , 0.        , 0.        , 0.35797552, 0.42383231,\n",
       "        0.        , 0.        , 0.42383231, 0.        , 0.        ,\n",
       "        0.        , 0.        , 0.71595103, 0.        , 0.        ,\n",
       "        0.        , 0.        , 0.        ],\n",
       "       [0.        , 0.        , 0.        , 0.57735027, 0.        ,\n",
       "        0.57735027, 0.        , 0.        , 0.        , 0.        ,\n",
       "        0.        , 0.        , 0.57735027, 0.        , 0.        ,\n",
       "        0.        , 0.        , 0.        ]])"
      ]
     },
     "execution_count": 359,
     "metadata": {},
     "output_type": "execute_result"
    }
   ],
   "source": [
    "apply_idf(idf, C)"
   ]
  },
  {
   "cell_type": "markdown",
   "id": "08501402",
   "metadata": {},
   "source": [
    "## Retrieval\n",
    "# Q8\n",
    "To do classic ad hoc retrieval, one represents the query as a document in the same space, and one finds the nearest document using cosine similarity.  Write a function to do that.  As input, it takes a query string *q*, a matrix *X*, a CountVectorizer *cv*, and a TfidfTransformer *t*.  The query *q* is just a string, but note that [*q*] qualifies as a one-sentence corpus.  The matrix *X* has already been TF-IDF transformed and has normalized rows.  Transform the query and compare it to the rows of *X*.  **Caution:** never *fit* a preprocessor to the test data, only do the transform step.  The return value should be a column vector containing cosine values, one for each document."
   ]
  },
  {
   "cell_type": "code",
   "execution_count": 360,
   "id": "84bd950a",
   "metadata": {},
   "outputs": [],
   "source": [
    "def retrieve (q, X, cv, t):\n",
    "    q = cv.transform([q]).toarray()\n",
    "    q = t.transform(q).toarray()\n",
    "    a = np.dot(q, X.T)\n",
    "    b = norm(q, axis = 1) * norm(X, axis = 1)\n",
    "    c = a/b\n",
    "    return c"
   ]
  },
  {
   "cell_type": "markdown",
   "id": "7c205fda",
   "metadata": {},
   "source": [
    "For example, the following should return a column vector containing 10 values, one for each document.  Four of the documents have no words in common with the query, so you should see four zeros."
   ]
  },
  {
   "cell_type": "code",
   "execution_count": 361,
   "id": "5c228f60",
   "metadata": {},
   "outputs": [
    {
     "data": {
      "text/plain": [
       "array([[0.12272513, 0.08467919, 0.53583475, 0.6815445 , 0.1495718 ,\n",
       "        0.        , 0.1495718 , 0.        , 0.        , 0.        ]])"
      ]
     },
     "execution_count": 361,
     "metadata": {},
     "output_type": "execute_result"
    }
   ],
   "source": [
    "s = 'distant red stars'\n",
    "S = retrieve(s, X, cv, t)\n",
    "S"
   ]
  },
  {
   "cell_type": "markdown",
   "id": "6a9cc07c",
   "metadata": {},
   "source": [
    "One can find out which document has the greatest similarity value using `argmax()`."
   ]
  },
  {
   "cell_type": "code",
   "execution_count": 362,
   "id": "bbca0363",
   "metadata": {},
   "outputs": [
    {
     "data": {
      "text/plain": [
       "3"
      ]
     },
     "execution_count": 362,
     "metadata": {},
     "output_type": "execute_result"
    }
   ],
   "source": [
    "S.argmax()"
   ]
  },
  {
   "cell_type": "code",
   "execution_count": 363,
   "id": "f52208de",
   "metadata": {
    "scrolled": true
   },
   "outputs": [
    {
     "data": {
      "text/plain": [
       "b'A distant nebula and stars.'"
      ]
     },
     "execution_count": 363,
     "metadata": {},
     "output_type": "execute_result"
    }
   ],
   "source": [
    "corpus[S.argmax()]"
   ]
  },
  {
   "cell_type": "markdown",
   "id": "90a5c94b",
   "metadata": {},
   "source": [
    "## Visualization\n",
    "The feature space is 18-dimensional in this case, and would have many more dimensions for a larger corpus.  That makes visualization difficult.  There are a number of methods for converting the data to a 2-dimensional space in which the distances between points in the transformed space are good approximations for the distances between points in the original space.  We will look at two of them.\n",
    "\n",
    "The dataset is not labeled, but inspection makes it clear that the first five documents are intended to be in the \"astronomy\" class, and the last five in the \"botany\" class."
   ]
  },
  {
   "cell_type": "code",
   "execution_count": 364,
   "id": "1d9fed9d",
   "metadata": {},
   "outputs": [
    {
     "data": {
      "text/plain": [
       "array([0., 0., 0., 0., 0., 1., 1., 1., 1., 1.])"
      ]
     },
     "execution_count": 364,
     "metadata": {},
     "output_type": "execute_result"
    }
   ],
   "source": [
    "y = np.concatenate([np.zeros(5), np.ones(5)])\n",
    "y"
   ]
  },
  {
   "cell_type": "markdown",
   "id": "20572511",
   "metadata": {},
   "source": [
    "A dimensionality-reduction method that has been around for a long time is Multi-Dimensional Scaling (MDS).  Import it, instantiate it, fit and transform the data:"
   ]
  },
  {
   "cell_type": "code",
   "execution_count": 365,
   "id": "787b206c",
   "metadata": {},
   "outputs": [],
   "source": [
    "from sklearn.manifold import MDS\n",
    "mds = MDS(n_components=2)\n",
    "X_mds = mds.fit_transform(X)"
   ]
  },
  {
   "cell_type": "markdown",
   "id": "f26eabd0",
   "metadata": {},
   "source": [
    "You can confirm that the result is a 10 x 2 matrix instead of the original 10 x 18 matrix."
   ]
  },
  {
   "cell_type": "code",
   "execution_count": 366,
   "id": "a37bbd2f",
   "metadata": {},
   "outputs": [
    {
     "data": {
      "text/plain": [
       "(10, 2)"
      ]
     },
     "execution_count": 366,
     "metadata": {},
     "output_type": "execute_result"
    }
   ],
   "source": [
    "X_mds.shape"
   ]
  },
  {
   "cell_type": "markdown",
   "id": "96aa9bce",
   "metadata": {},
   "source": [
    "We can use `plot_points()` to plot the points.  The `dark` colors are red-blue, that is, red = 0 = astronomy, blue = 1 = botany."
   ]
  },
  {
   "cell_type": "code",
   "execution_count": 367,
   "id": "f6f70466",
   "metadata": {},
   "outputs": [
    {
     "data": {
      "image/png": "[encoded data removed]",
      "text/plain": [
       "<Figure size 432x288 with 1 Axes>"
      ]
     },
     "metadata": {
      "needs_background": "light"
     },
     "output_type": "display_data"
    }
   ],
   "source": [
    "(fig, ax) = plt.subplots()\n",
    "plot_points(ax, X_mds, y, dark)"
   ]
  },
  {
   "cell_type": "markdown",
   "id": "1921a16a",
   "metadata": {},
   "source": [
    "A newer, and very popular, dimensionality-reduction method is t-SNE.  It is also in the sklearn.manifold module.  The constructor invocation is: `TSNE(n_components=2, init='pca')`.  Use it to transform the data; call the transformed data `X_tsne`.  (Don't worry about the warnings; they are just notifications that some details of the behavior are going to change in an upcoming release.)"
   ]
  },
  {
   "cell_type": "code",
   "execution_count": 368,
   "id": "97c8461b",
   "metadata": {},
   "outputs": [
    {
     "name": "stderr",
     "output_type": "stream",
     "text": [
      "C:\\Users\\alish\\anaconda\\lib\\site-packages\\sklearn\\manifold\\_t_sne.py:790: FutureWarning: The default learning rate in TSNE will change from 200.0 to 'auto' in 1.2.\n",
      "  warnings.warn(\n",
      "C:\\Users\\alish\\anaconda\\lib\\site-packages\\sklearn\\manifold\\_t_sne.py:982: FutureWarning: The PCA initialization in TSNE will change to have the standard deviation of PC1 equal to 1e-4 in 1.2. This will ensure better convergence.\n",
      "  warnings.warn(\n"
     ]
    }
   ],
   "source": [
    "from sklearn.manifold import TSNE\n",
    "tsne = TSNE(n_components=2, init='pca')\n",
    "X_tsne = tsne.fit_transform(X)"
   ]
  },
  {
   "cell_type": "code",
   "execution_count": 369,
   "id": "118b0728",
   "metadata": {},
   "outputs": [
    {
     "data": {
      "image/png": "[encoded data removed]",
      "text/plain": [
       "<Figure size 432x288 with 1 Axes>"
      ]
     },
     "metadata": {
      "needs_background": "light"
     },
     "output_type": "display_data"
    }
   ],
   "source": [
    "(fig, ax) = plt.subplots()\n",
    "plot_points(ax, X_tsne, y, dark)"
   ]
  },
  {
   "cell_type": "code",
   "execution_count": null,
   "id": "080b9b53",
   "metadata": {},
   "outputs": [],
   "source": []
  },
  {
   "cell_type": "code",
   "execution_count": null,
   "id": "f498b51e",
   "metadata": {},
   "outputs": [],
   "source": []
  },
  {
   "cell_type": "code",
   "execution_count": null,
   "id": "a44beebd",
   "metadata": {},
   "outputs": [],
   "source": []
  }
 ],
 "metadata": {
  "kernelspec": {
   "display_name": "Python 3 (ipykernel)",
   "language": "python",
   "name": "python3"
  },
  "language_info": {
   "codemirror_mode": {
    "name": "ipython",
    "version": 3
   },
   "file_extension": ".py",
   "mimetype": "text/x-python",
   "name": "python",
   "nbconvert_exporter": "python",
   "pygments_lexer": "ipython3",
   "version": "3.9.12"
  }
 },
 "nbformat": 4,
 "nbformat_minor": 5
}
